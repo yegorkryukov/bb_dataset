{
 "cells": [
  {
   "cell_type": "code",
   "execution_count": 17,
   "metadata": {},
   "outputs": [],
   "source": [
    "from sqlalchemy.ext.automap import automap_base\n",
    "from sqlalchemy.orm import Session\n",
    "from sqlalchemy import create_engine, func\n",
    "import json\n",
    "\n",
    "# Database Setup\n",
    "engine = create_engine(\"sqlite:///static/data/belly_button_biodiversity.sqlite\")\n",
    "\n",
    "# reflect an existing database into a new model\n",
    "Base = automap_base()\n",
    "\n",
    "# reflect the tables\n",
    "Base.prepare(engine, reflect=True)\n",
    "\n",
    "# Save reference to the table\n",
    "OTU = Base.classes.otu\n",
    "Samples = Base.classes.samples\n",
    "Samples_metadata = Base.classes.samples_metadata\n",
    "\n",
    "# Create our session (link) from Python to the DB\n",
    "session = Session(engine)"
   ]
  },
  {
   "cell_type": "code",
   "execution_count": 11,
   "metadata": {},
   "outputs": [
    {
     "name": "stdout",
     "output_type": "stream",
     "text": [
      "['otu_id', 'lowest_taxonomic_unit_found']\n"
     ]
    }
   ],
   "source": [
    "print([c.key for c in OTU.__table__.c])"
   ]
  },
  {
   "cell_type": "code",
   "execution_count": 12,
   "metadata": {},
   "outputs": [
    {
     "name": "stdout",
     "output_type": "stream",
     "text": [
      "['otu_id', 'BB_940', 'BB_941', 'BB_943', 'BB_944', 'BB_945', 'BB_946', 'BB_947', 'BB_948', 'BB_949', 'BB_950', 'BB_952', 'BB_953', 'BB_954', 'BB_955', 'BB_956', 'BB_958', 'BB_959', 'BB_960', 'BB_961', 'BB_962', 'BB_963', 'BB_964', 'BB_966', 'BB_967', 'BB_968', 'BB_969', 'BB_970', 'BB_971', 'BB_972', 'BB_973', 'BB_974', 'BB_975', 'BB_978', 'BB_1233', 'BB_1234', 'BB_1235', 'BB_1236', 'BB_1237', 'BB_1238', 'BB_1242', 'BB_1243', 'BB_1246', 'BB_1253', 'BB_1254', 'BB_1258', 'BB_1259', 'BB_1260', 'BB_1264', 'BB_1265', 'BB_1273', 'BB_1275', 'BB_1276', 'BB_1277', 'BB_1278', 'BB_1279', 'BB_1280', 'BB_1281', 'BB_1282', 'BB_1283', 'BB_1284', 'BB_1285', 'BB_1286', 'BB_1287', 'BB_1288', 'BB_1289', 'BB_1290', 'BB_1291', 'BB_1292', 'BB_1293', 'BB_1294', 'BB_1295', 'BB_1296', 'BB_1297', 'BB_1298', 'BB_1308', 'BB_1309', 'BB_1310', 'BB_1374', 'BB_1415', 'BB_1439', 'BB_1441', 'BB_1443', 'BB_1486', 'BB_1487', 'BB_1489', 'BB_1490', 'BB_1491', 'BB_1494', 'BB_1495', 'BB_1497', 'BB_1499', 'BB_1500', 'BB_1501', 'BB_1502', 'BB_1503', 'BB_1504', 'BB_1505', 'BB_1506', 'BB_1507', 'BB_1508', 'BB_1510', 'BB_1511', 'BB_1512', 'BB_1513', 'BB_1514', 'BB_1515', 'BB_1516', 'BB_1517', 'BB_1518', 'BB_1519', 'BB_1521', 'BB_1524', 'BB_1526', 'BB_1527', 'BB_1530', 'BB_1531', 'BB_1532', 'BB_1533', 'BB_1534', 'BB_1535', 'BB_1536', 'BB_1537', 'BB_1539', 'BB_1540', 'BB_1541', 'BB_1542', 'BB_1543', 'BB_1544', 'BB_1545', 'BB_1546', 'BB_1547', 'BB_1548', 'BB_1549', 'BB_1550', 'BB_1551', 'BB_1552', 'BB_1553', 'BB_1554', 'BB_1555', 'BB_1556', 'BB_1557', 'BB_1558', 'BB_1561', 'BB_1562', 'BB_1563', 'BB_1564', 'BB_1572', 'BB_1573', 'BB_1574', 'BB_1576', 'BB_1577', 'BB_1581', 'BB_1601']\n"
     ]
    }
   ],
   "source": [
    "print()"
   ]
  },
  {
   "cell_type": "code",
   "execution_count": 22,
   "metadata": {},
   "outputs": [
    {
     "data": {
      "text/plain": [
       "'[\"BB_940\", \"BB_941\", \"BB_943\", \"BB_944\", \"BB_945\", \"BB_946\", \"BB_947\", \"BB_948\", \"BB_949\", \"BB_950\", \"BB_952\", \"BB_953\", \"BB_954\", \"BB_955\", \"BB_956\", \"BB_958\", \"BB_959\", \"BB_960\", \"BB_961\", \"BB_962\", \"BB_963\", \"BB_964\", \"BB_966\", \"BB_967\", \"BB_968\", \"BB_969\", \"BB_970\", \"BB_971\", \"BB_972\", \"BB_973\", \"BB_974\", \"BB_975\", \"BB_978\", \"BB_1233\", \"BB_1234\", \"BB_1235\", \"BB_1236\", \"BB_1237\", \"BB_1238\", \"BB_1242\", \"BB_1243\", \"BB_1246\", \"BB_1253\", \"BB_1254\", \"BB_1258\", \"BB_1259\", \"BB_1260\", \"BB_1264\", \"BB_1265\", \"BB_1273\", \"BB_1275\", \"BB_1276\", \"BB_1277\", \"BB_1278\", \"BB_1279\", \"BB_1280\", \"BB_1281\", \"BB_1282\", \"BB_1283\", \"BB_1284\", \"BB_1285\", \"BB_1286\", \"BB_1287\", \"BB_1288\", \"BB_1289\", \"BB_1290\", \"BB_1291\", \"BB_1292\", \"BB_1293\", \"BB_1294\", \"BB_1295\", \"BB_1296\", \"BB_1297\", \"BB_1298\", \"BB_1308\", \"BB_1309\", \"BB_1310\", \"BB_1374\", \"BB_1415\", \"BB_1439\", \"BB_1441\", \"BB_1443\", \"BB_1486\", \"BB_1487\", \"BB_1489\", \"BB_1490\", \"BB_1491\", \"BB_1494\", \"BB_1495\", \"BB_1497\", \"BB_1499\", \"BB_1500\", \"BB_1501\", \"BB_1502\", \"BB_1503\", \"BB_1504\", \"BB_1505\", \"BB_1506\", \"BB_1507\", \"BB_1508\", \"BB_1510\", \"BB_1511\", \"BB_1512\", \"BB_1513\", \"BB_1514\", \"BB_1515\", \"BB_1516\", \"BB_1517\", \"BB_1518\", \"BB_1519\", \"BB_1521\", \"BB_1524\", \"BB_1526\", \"BB_1527\", \"BB_1530\", \"BB_1531\", \"BB_1532\", \"BB_1533\", \"BB_1534\", \"BB_1535\", \"BB_1536\", \"BB_1537\", \"BB_1539\", \"BB_1540\", \"BB_1541\", \"BB_1542\", \"BB_1543\", \"BB_1544\", \"BB_1545\", \"BB_1546\", \"BB_1547\", \"BB_1548\", \"BB_1549\", \"BB_1550\", \"BB_1551\", \"BB_1552\", \"BB_1553\", \"BB_1554\", \"BB_1555\", \"BB_1556\", \"BB_1557\", \"BB_1558\", \"BB_1561\", \"BB_1562\", \"BB_1563\", \"BB_1564\", \"BB_1572\", \"BB_1573\", \"BB_1574\", \"BB_1576\", \"BB_1577\", \"BB_1581\", \"BB_1601\"]'"
      ]
     },
     "execution_count": 22,
     "metadata": {},
     "output_type": "execute_result"
    }
   ],
   "source": [
    "names_of_samples = [c.key for c in Samples.__table__.c][1:]\n",
    "json.dumps(names_of_samples)"
   ]
  },
  {
   "cell_type": "code",
   "execution_count": 13,
   "metadata": {},
   "outputs": [
    {
     "name": "stdout",
     "output_type": "stream",
     "text": [
      "['SAMPLEID', 'EVENT', 'ETHNICITY', 'GENDER', 'AGE', 'WFREQ', 'BBTYPE', 'LOCATION', 'COUNTRY012', 'ZIP012', 'COUNTRY1319', 'ZIP1319', 'DOG', 'CAT', 'IMPSURFACE013', 'NPP013', 'MMAXTEMP013', 'PFC013', 'IMPSURFACE1319', 'NPP1319', 'MMAXTEMP1319', 'PFC1319']\n"
     ]
    }
   ],
   "source": [
    "print([c.key for c in Samples_metadata.__table__.c])"
   ]
  },
  {
   "cell_type": "code",
   "execution_count": 24,
   "metadata": {},
   "outputs": [
    {
     "data": {
      "text/plain": [
       "list"
      ]
     },
     "execution_count": 24,
     "metadata": {},
     "output_type": "execute_result"
    }
   ],
   "source": [
    "type(session.query(OTU.lowest_taxonomic_unit_found).distinct().all())"
   ]
  },
  {
   "cell_type": "code",
   "execution_count": null,
   "metadata": {},
   "outputs": [],
   "source": []
  }
 ],
 "metadata": {
  "kernelspec": {
   "display_name": "Python 3",
   "language": "python",
   "name": "python3"
  },
  "language_info": {
   "codemirror_mode": {
    "name": "ipython",
    "version": 3
   },
   "file_extension": ".py",
   "mimetype": "text/x-python",
   "name": "python",
   "nbconvert_exporter": "python",
   "pygments_lexer": "ipython3",
   "version": "3.6.5"
  },
  "varInspector": {
   "cols": {
    "lenName": 16,
    "lenType": 16,
    "lenVar": 40
   },
   "kernels_config": {
    "python": {
     "delete_cmd_postfix": "",
     "delete_cmd_prefix": "del ",
     "library": "var_list.py",
     "varRefreshCmd": "print(var_dic_list())"
    },
    "r": {
     "delete_cmd_postfix": ") ",
     "delete_cmd_prefix": "rm(",
     "library": "var_list.r",
     "varRefreshCmd": "cat(var_dic_list()) "
    }
   },
   "types_to_exclude": [
    "module",
    "function",
    "builtin_function_or_method",
    "instance",
    "_Feature"
   ],
   "window_display": false
  }
 },
 "nbformat": 4,
 "nbformat_minor": 2
}
